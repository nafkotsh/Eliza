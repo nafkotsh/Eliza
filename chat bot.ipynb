{
 "cells": [
  {
   "cell_type": "code",
   "execution_count": null,
   "metadata": {},
   "outputs": [],
   "source": [
    "print(\"You have reached Eliza therapist\\nWhat can I help you today? \\nEnter Q when you want to quit \")\n",
    "prompt=\"Enter 'quit' to end the program.\"\n",
    "\n",
    "\n",
    "while True:\n",
    "    message=input(prompt)\n",
    "    \n",
    "    if message=='Q':\n",
    "        break\n",
    "    elif message=='q':\n",
    "        break\n",
    "    else:\n",
    "        print(message+\"?\")\n"
   ]
  }
 ],
 "metadata": {
  "kernelspec": {
   "display_name": "Python 3",
   "language": "python",
   "name": "python3"
  },
  "language_info": {
   "codemirror_mode": {
    "name": "ipython",
    "version": 3
   },
   "file_extension": ".py",
   "mimetype": "text/x-python",
   "name": "python",
   "nbconvert_exporter": "python",
   "pygments_lexer": "ipython3",
   "version": "3.7.3"
  }
 },
 "nbformat": 4,
 "nbformat_minor": 2
}
